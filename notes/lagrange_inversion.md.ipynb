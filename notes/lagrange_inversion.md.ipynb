{
 "cells": [
  {
   "cell_type": "markdown",
   "metadata": {},
   "source": [
    "# 拉格朗日反演及其扩展\n",
    "\n",
    "多项式复合: $F(G(x))=\\sum_{i=0}^{\\infty}{F[i]G(x)^i}$\n",
    "\n",
    "常数项为0, 一次项系数非0的多项式在复合运算下形成群.\n",
    "\n",
    "多项式复合群的单位元为$x$. 若$F(G(x))=G(F(x))=x$, 称$F,G$互为复合逆.\n",
    "\n",
    "## 拉格朗日反演\n",
    "\n",
    "若$F,G$互为复合逆(即$F(G(x))=G(F(x))=x$且$F[0]=G[0]=0$,$F[1]\\ne 0$,$G[1]\\ne 0$),\n",
    "\n",
    "已知$F$, 可以用以下公式得到$G$的某一项:\n",
    "\n",
    "$[x^n]G(x)=\\frac{1}{n}[x^{-1}]F(x)^{-n}=\\frac{1}{n}[x^{n-1}](\\frac{F(x)}{x})^{-n}$.\n",
    "\n",
    "引理: 对于常系数为$0$且$[x^1]$系数非$0$的整式$F(x)$, 有 $[x^{-1}]F'(x)F(x)^k=[k=-1]$.\n",
    "\n",
    "## 扩展拉格朗日反演\n",
    "\n",
    "若$F,G$互为复合逆, $H$是另一无要求的幂级数, 有\n",
    "\n",
    "$[x^n]H(G(x))=\\frac{1}{n}[x^{-1}]H'(x)F(x)^{-n}=\\frac{1}{n}[x^{n-1}]H'(x)(\\frac{F(x)}{x})^{-n}$.\n",
    "\n",
    "## 另类拉格朗日反演\n",
    "\n",
    "当$k\\ne 0$时有 $G^k[n]=[x^{-k-1}]F^{-n-1}F'$."
   ]
  }
 ],
 "metadata": {
  "kernelspec": {
   "display_name": "Python 3",
   "language": "python",
   "name": "python3"
  },
  "language_info": {
   "codemirror_mode": {
    "name": "ipython",
    "version": 3
   },
   "file_extension": ".py",
   "mimetype": "text/x-python",
   "name": "python",
   "nbconvert_exporter": "python",
   "pygments_lexer": "ipython3",
   "version": "3.8.5"
  }
 },
 "nbformat": 4,
 "nbformat_minor": 4
}
