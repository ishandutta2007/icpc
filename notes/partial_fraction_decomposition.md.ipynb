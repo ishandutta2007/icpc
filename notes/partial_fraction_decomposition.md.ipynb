{
 "cells": [
  {
   "cell_type": "markdown",
   "id": "1ea2b36f",
   "metadata": {},
   "source": [
    "**不可约多项式(irreducible polynomial)** 或称**质式**, 是指不可被分解成两个非常数多项式之乘积的非常数多项式. 不可约的性质取决于系数所属于的域或环. 例如, 多项式 $x^2-2$ 在整数上不可约, 但在实数上是可约的, 且分解式为 $(x-\\sqrt 2)(x+\\sqrt 2)$.\n",
    "\n",
    "\n",
    "\n",
    "**有理函数(rational function)** 是可以表示为以下形式的函数:\n",
    "\n",
    "$$f(x)=\\frac{a_mx^m+a_{m-1}x^{m-1}+\\cdots+a_1x+a_0}{b_nx^n+b_{n-1}x^{n-1}+\\cdots+b_1x+b_0}=\\frac{P_m(x)}{Q_n(x)};\\ m,n\\in \\mathbb{N}_0,\\ b_i\\mbox{ 不全为 }0.$$\n",
    "\n",
    "\n",
    "\n",
    "**部分分式分解** 或 **部分分式展开** 是将有理函数分解成许多次数较低的有理函数的和的形式, 来降低分子或分母多项式的次数. 分解后的分式需满足以下条件:\n",
    "\n",
    "- 分式的分母需为不可约多项式 (irreducible polynomial) 或其乘幂.\n",
    "- 分式的分子多项式次数需比其分母多项式次数要低.\n",
    "\n",
    "具体地说, 部分分式分解就是将 $\\frac{P(x)}{Q(x)}$变成等式右边的形式:\n",
    "\n",
    "$$\\frac{P(x)}{Q(x)}=r(x)+\\sum_{j}\\frac{p_j(x)}{q_j(x)},$$\n",
    "其中, $r(x)$ 是个多项式, $q_j(x)$ 是某个不可约多项式的幂, 并且满足 $Q(x)=\\Pi_j q_j(x)$, 而 $p_j(x)$ 是某个度数小于 $q_j(x)$ 的度数的多项式.\n",
    "\n",
    "(另, 若 $P(x)$ 的度数小于 $Q(x)$ 的度数, 那直接有 $r(x)=0$.)\n",
    "\n",
    "对右侧通分可得\n",
    "\n",
    "$$\\frac{P(x)}{Q(x)}=\\frac{r(x)Q(x)+\\sum_j p_j(x)\\Pi_{i!=j} q_i(x)}{Q(x)},$$\n",
    "\n",
    "只看分子, 有\n",
    "\n",
    "$$P(x)=r(x)Q(x)+\\sum_j p_j(x)\\Pi_{i!=j} q_i(x),$$\n",
    "两侧对 $q_j(x)$ 取模得\n",
    "\n",
    "$$P(x) \\equiv p_j(x)\\Pi_{i!=j}q_i(x) \\mod q_j(x).$$\n",
    "这并没有什么用.\n",
    "\n",
    "## Reference\n",
    "\n",
    "- [Partial fraction decomposition(wiki)](https://en.wikipedia.org/wiki/Partial_fraction_decomposition)\n",
    "- [部分分式分解(wiki)](https://zh.wikipedia.org/wiki/部分分式分解)\n",
    "- [有理函数(wiki)](https://zh.wikipedia.org/wiki/有理函數)\n",
    "- [不可约多项式(wiki)](https://zh.wikipedia.org/wiki/不可约多项式)\n"
   ]
  }
 ],
 "metadata": {
  "kernelspec": {
   "display_name": "Python 3",
   "language": "python",
   "name": "python3"
  },
  "language_info": {
   "codemirror_mode": {
    "name": "ipython",
    "version": 3
   },
   "file_extension": ".py",
   "mimetype": "text/x-python",
   "name": "python",
   "nbconvert_exporter": "python",
   "pygments_lexer": "ipython3",
   "version": "3.8.8"
  }
 },
 "nbformat": 4,
 "nbformat_minor": 5
}
