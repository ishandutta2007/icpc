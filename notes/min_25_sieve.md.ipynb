{
 "cells": [
  {
   "cell_type": "markdown",
   "id": "68968640",
   "metadata": {},
   "source": [
    "# min_25筛\n",
    "## 求不超过 $n$ 的质数数量, $n\\le10^{11}$\n",
    "\n",
    "首先, 我们形式化定义一下埃氏筛函数:\n",
    "\n",
    "$g(k,n)=\\sum_{i=2}^n[mindiv(i)\\gt p_k \\vee isprime(i)],$\n",
    "\n",
    "其中 $mindiv(i)$ 是 $i$ 的最小的质因子, $p_k\\ (k=1,2,\\cdots)$ 是第 $k$ 小的质数, $isprime(i)$ 对于质数返回 $True$ 否则 $False$. 这个函数简单说就是埃氏筛到第 $k$ 个质数后剩下的数的数量.\n",
    "\n",
    "### 定理1 \n",
    "有如下等式成立\n",
    "\n",
    "$$g(k,n)=\\left\\{\\begin{array}{ll}g(k-1,n)-g(k-1,\\lfloor \\frac{n}{p_k}\\rfloor)+g(k-1,p_{k-1}),& p_k^2\\le n\\\\\n",
    "g(k-1,n),& p_k^2\\gt n\\end{array}\\right.$$\n",
    "\n",
    "### 证明\n",
    "分析转移:\n",
    "\n",
    "当 $p_k^2\\gt n$ 时, $p_k$ 不会筛掉任何一个数, 所以有 $g(k,n)=g(k-1,n)$.\n",
    "\n",
    "当 $p_k^2\\le n$ 时, 我们有\n",
    "\n",
    "$$\\begin{array}{ll}g(k,n)&=g(k-1,n)-\\sum_{i=2}^n[mindiv(i)=p_k\\wedge \\neg isprime(i)]\\\\\n",
    "&=g(k-1,n)-\\sum_{q=2}^{\\lfloor \\frac{n}{p_k}\\rfloor}[mindiv(q)\\ge p_k\\wedge \\neg isprime(p_k\\cdot q)]\\\\\n",
    "&=g(k-1,n)-\\sum_{q=2}^{\\lfloor \\frac{n}{p_k}\\rfloor}[mindiv(q)\\ge p_k]\\\\\n",
    "&=g(k-1,n)-\\sum_{q=2}^{\\lfloor \\frac{n}{p_k}\\rfloor}[mindiv(q)\\gt p_{k-1}\\vee isprime(q)]\\ +\\sum_{q=2}^{\\min(\\lfloor \\frac{n}{p_k}\\rfloor,p_{k-1})}[isprime(q)]\\\\\n",
    "&=g(k-1,n)-g(k-1,\\lfloor \\frac{n}{p_k}\\rfloor)+\\sum_{q=2}^{p_{k-1}}[isprime(q)]\\\\\n",
    "&=g(k-1,n)-g(k-1,\\lfloor \\frac{n}{p_k}\\rfloor)+\\sum_{q=2}^{p_{k-1}}[mindiv(q)\\gt p_{k-1}\\vee isprime(q)]\\\\\n",
    "&=g(k-1,n)-g(k-1,\\lfloor \\frac{n}{p_k}\\rfloor)+g(k-1,p_{k-1}).\\end{array}$$\n",
    "\n",
    "定义 $\\pi_k(n)=\\sum_{i=2}^n[isprime(i)]\\cdot i^k$. 有 $\\pi(n)\\equiv\\pi_0(n)$ 即为所求.\n",
    "\n",
    "由定义知 $\\pi(n)=g(k',n)$, 其中 $k'$ 为最大的满足 $p_k^2\\le n$ 的 $k$.\n",
    "\n",
    "观察 [[#定理1]] 可知, $g(\\cdot,\\cdot)$ 仅在 $O(\\sqrt{n})$ 处取值.\n",
    "\n",
    "使用 [[#定理1]] 直接算的复杂度是 $O(\\frac{n^{\\frac{3}{4}}}{log(n)})$. 不会证."
   ]
  }
 ],
 "metadata": {
  "kernelspec": {
   "display_name": "Python 3",
   "language": "python",
   "name": "python3"
  },
  "language_info": {
   "codemirror_mode": {
    "name": "ipython",
    "version": 3
   },
   "file_extension": ".py",
   "mimetype": "text/x-python",
   "name": "python",
   "nbconvert_exporter": "python",
   "pygments_lexer": "ipython3",
   "version": "3.8.8"
  }
 },
 "nbformat": 4,
 "nbformat_minor": 5
}
