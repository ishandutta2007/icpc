{
 "cells": [
  {
   "cell_type": "markdown",
   "id": "1a866992",
   "metadata": {},
   "source": [
    "# 形式幂级数\n",
    "\n",
    "$\\sum_{i=0}^{\\infty}{x^i}=\\frac{1}{1-x}$\n",
    "\n",
    "$\\sum_{i=0}^{\\infty}{a^ix^i}=\\frac{1}{1-ax}$\n",
    "\n",
    "$\\sum_{i=0}^{\\infty}{x^{ik}}=\\frac{1}{1-x^k}$\n",
    "\n",
    "$\\sum_{i=0}^{\\infty}{c^ix^{ik}}=\\frac{1}{1-cx^k}$\n",
    "\n",
    "$\\sum_{i=0}^{\\infty}{\\frac{x^i}{i!}}=e^x$\n",
    "\n",
    "$x\\frac{\\partial}{\\partial{x}}\\sum_{i=0}^{\\infty}{a_ix^i}=\\sum_{i=0}^{\\infty}{ia_ix^i}$\n",
    "\n",
    "$\\sum_{i=0}^{n}{\\binom{n}{i}(-x)^i}=(1-x)^n$\n",
    "\n",
    "$\\sum_{i=0}^{\\infty}{\\binom{n+i}{i}x^i}=\\frac{1}{(1-x)^{n+1}}$\n",
    "\n",
    "平移: $[x^n]x^tF(x)=F[n-t]$\n",
    "\n",
    "拉伸: $F(x^k)=\\sum_{i=0}^{\\infty}{F[i]x^{ik}}$\n",
    "\n",
    "$\\sum_{i=0}^{\\infty}{\\frac{a^{\\underline{i}}}{i!}x^i}=(1+x)^a$\n",
    "\n",
    "$ln(\\frac{1}{1-x})=\\sum_{i=1}^{\\infty}{\\frac{x^i}{i}}$\n",
    "\n",
    "$ln(F(x))=-\\sum_{i=1}^{\\infty}{\\frac{(1-F(x))^i}{i}}$\n",
    "\n",
    "$e^{F(x)}=\\sum_{i=0}^{\\infty}{\\frac{F(x)^i}{i!}}$\n",
    "\n",
    "## 一些特殊情形下 EGF 与 OGF 的转化\n",
    "\n",
    "首先定义 $F_{exp}(x)=\\sum_{i=0}^{\\infty}\\frac{f_ix_i}{i!}$ 和 $F(x)=\\sum_{i=0}^{\\infty}f_ix^i$.\n",
    "\n",
    "以下式子常用于已知EGF表示, 需要求OGF表示(或反过来)的场合.\n",
    "\n",
    "$F_{exp}(x)=\\sum_{i}A_ie^{C_ix}\\Leftrightarrow F(x)=\\sum_{i}\\frac{A_i}{1-C_ix}$.\n",
    "\n",
    "$F_{exp}(x)=\\sum_{i}x^{D_i}e^{C_ix}\\Leftrightarrow F(x)=\\sum_{i}\\frac{D_i!x^{D_i}}{(1-C_ix)^{D_i+1}}$."
   ]
  }
 ],
 "metadata": {
  "kernelspec": {
   "display_name": "Python 3",
   "language": "python",
   "name": "python3"
  },
  "language_info": {
   "codemirror_mode": {
    "name": "ipython",
    "version": 3
   },
   "file_extension": ".py",
   "mimetype": "text/x-python",
   "name": "python",
   "nbconvert_exporter": "python",
   "pygments_lexer": "ipython3",
   "version": "3.8.8"
  }
 },
 "nbformat": 4,
 "nbformat_minor": 5
}
