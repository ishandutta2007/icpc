{
 "cells": [
  {
   "cell_type": "markdown",
   "id": "af70474d",
   "metadata": {},
   "source": [
    "# 杜教筛\n",
    "\n",
    "## 前置\n",
    "\n",
    "### 狄利克雷卷积\n",
    "\n",
    "狄利克雷卷积是一个作用在数论函数($\\mathbb{Z}^{+}\\rightarrow\\mathbb{C}$)间的二元运算:\n",
    "\n",
    "$(f\\ast g)[n]=\\sum_{ij=n}f[i]g[j]$ 或\n",
    "\n",
    "$(f\\ast g)[n]=\\sum_{d|n}f[d]g[\\frac{n}{d}]$\n",
    "\n",
    "积性: 若数论函数$f$满足$f[1]=1$且若$p,q$互质有$f[pq]=f[p]f[q]$, 称$f$为积性函数.\n",
    "\n",
    "狄利克雷卷积保积性: 若$f,g$是积性函数,则$(f\\ast g)$也是积性函数.\n",
    "\n",
    "\n",
    "## 杜教筛\n",
    "\n",
    "### 问题描述\n",
    "\n",
    "给出积性函数$f$, 求$S[n]=\\sum_{i=1}^{n}f[i]$.\n",
    "\n",
    "### 算法框架\n",
    "\n",
    "我们找到另外两个容易算的积性函数$g,h$满足$h=(f\\ast g)$.\n",
    "\n",
    "则 $g[1]S[n]=\\sum_{i=1}^{n}h[i] - \\sum_{i=2}^{n}g[i]S[\\lfloor\\frac{n}{i}\\rfloor]$.\n",
    "\n",
    "### 推导过程\n",
    "\n",
    "$\\sum_{i=1}^{n}h[i]\\iff\\\\\n",
    "\\sum_{m=1}^{n}\\sum_{i|m}{f[\\frac{m}{i}]g[i]}\\iff\\\\\n",
    "\\sum_{i=1}^{n}g[i]\\sum_{j=1}^{\\lfloor\\frac{n}{i}\\rfloor}f[j]\\iff\\\\\n",
    "\\sum_{i=1}^{n}g[i]S[\\lfloor\\frac{n}{i}\\rfloor]$\n",
    "\n",
    "拆出右侧第一项得到:\n",
    "\n",
    "$g[1]S[n]=\\sum_{i=1}^{n}h[i] - \\sum_{i=2}^{n}g[i]S[\\lfloor\\frac{n}{i}\\rfloor]$.\n",
    "\n",
    "## 时间复杂度\n",
    "\n",
    "假定$\\sum_{i=1}^{n}h[i]$和$g[i]$都能$O(1)$得出, 则算法整体复杂度为$O(n^{\\frac{3}{4}})$.\n",
    "\n",
    "优化: 若先线性预处理出前$n^{\\frac{2}{3}}$项, 则算法整体复杂度为$O(n^{\\frac{2}{3}})$.\n",
    "\n",
    "# Reference\n",
    "\n",
    "https://oi-wiki.org/math/number-theory/du/\n",
    "\n",
    "https://zhuanlan.zhihu.com/p/137619492"
   ]
  }
 ],
 "metadata": {
  "kernelspec": {
   "display_name": "Python 3",
   "language": "python",
   "name": "python3"
  },
  "language_info": {
   "codemirror_mode": {
    "name": "ipython",
    "version": 3
   },
   "file_extension": ".py",
   "mimetype": "text/x-python",
   "name": "python",
   "nbconvert_exporter": "python",
   "pygments_lexer": "ipython3",
   "version": "3.8.5"
  }
 },
 "nbformat": 4,
 "nbformat_minor": 5
}
