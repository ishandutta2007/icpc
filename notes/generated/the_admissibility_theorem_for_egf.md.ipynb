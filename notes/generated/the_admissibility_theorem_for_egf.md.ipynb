{
    "cells": [
        {
            "cell_type": "markdown",
            "id": "0",
            "metadata": {},
            "source": [
                "# The admissibility theorem for exponential generating functions\n",
                "\n",
                "The **EGF** of a sequence $(A_n)$ is the formal power series\n",
                "\n",
                "$$A(z)=\\sum_{n>=0}A_n\\frac{z^n}{n!}.$$\n",
                "\n",
                "It's also said that the variable $z$ marks $\\textit{size}$ in the generating function.\n",
                "\n",
                "With the standard notation for coefficients of series, the cofficient $A_n$ in an EGF is then recovered by\n",
                "$$A_n=n!\\cdot[z^n]A(z).$$\n",
                "\n",
                "**Binomial convolutions.** Let $a(z), b(z), c(z)$ be EGFs, with $a(z)=\\sum_{n}a_n\\frac{z^n}{n!}$, and so on. The binomial convolution formula is:\n",
                "\n",
                "$$\\mbox{if } a(z)=b(z)\\cdot c(z),\\mbox{ then } a_n=\\sum_{i=0}^{n}\\binom{n}{i}b_ic_{n-i}.$$\n",
                "\n",
                "\n",
                "**Basic admissibility, labelled universe.** The constructions of combinatorial sum,  labelled product, sequence, set, and cycle are all admissible. Associated operators on EGFs are:\n",
                "\n",
                "Sum:  $\\mathcal{A}=\\mathcal{B}+\\mathcal{C}\\Rightarrow A(z)=B(z)+C(z)$,\n",
                "\n",
                "Product: $\\mathcal{A}=\\mathcal{B}\\star\\mathcal{C}\\Rightarrow A(z)=B(z)C(z)$,\n",
                "\n",
                "Sequence: $\\mathcal{A}=SEQ(\\mathcal{B})\\Rightarrow A(z)=\\frac{1}{1-B(z)}$,\n",
                "\n",
                "Sequence with $k$ components: $\\mathcal{A}=SEQ_k(\\mathcal{B})\\Rightarrow A(z)=B(z)^k$,\n",
                "\n",
                "Set: $\\mathcal{A}=SET(\\mathcal{B})\\Rightarrow A(z)=\\exp(B(z))$,\n",
                "\n",
                "Set with $k$ components: $\\mathcal{A}=SET_k(\\mathcal{B})\\Rightarrow A(z)=\\frac{1}{k!}B(z)^k$,\n",
                "\n",
                "Cycle: $\\mathcal{A}=CYC(\\mathcal{B})\\Rightarrow A(z)=\\log\\frac{1}{1-B(z)}$,\n",
                "\n",
                "Cycle with $k$ components: $\\mathcal{A}=CYC_k(\\mathcal{B})\\Rightarrow A(z)=\\frac{1}{k}B(z)^k$."
            ]
        }
    ],
    "metadata": {},
    "nbformat": 4,
    "nbformat_minor": 5
}