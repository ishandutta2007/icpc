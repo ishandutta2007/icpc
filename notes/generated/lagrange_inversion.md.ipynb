{
    "cells": [
        {
            "cell_type": "markdown",
            "id": "0",
            "metadata": {},
            "source": [
                "# \u62c9\u683c\u6717\u65e5\u53cd\u6f14\u53ca\u5176\u6269\u5c55\n",
                "\n",
                "\u591a\u9879\u5f0f\u590d\u5408: $F(G(x))=\\sum_{i=0}^{\\infty}{F[i]G(x)^i}$\n",
                "\n",
                "\u5e38\u6570\u9879\u4e3a0, \u4e00\u6b21\u9879\u7cfb\u6570\u975e0\u7684\u591a\u9879\u5f0f\u5728\u590d\u5408\u8fd0\u7b97\u4e0b\u5f62\u6210\u7fa4.\n",
                "\n",
                "\u591a\u9879\u5f0f\u590d\u5408\u7fa4\u7684\u5355\u4f4d\u5143\u4e3a$x$. \u82e5$F(G(x))=G(F(x))=x$, \u79f0$F,G$\u4e92\u4e3a\u590d\u5408\u9006.\n",
                "\n",
                "## \u62c9\u683c\u6717\u65e5\u53cd\u6f14\n",
                "\n",
                "\u82e5$F,G$\u4e92\u4e3a\u590d\u5408\u9006(\u5373$F(G(x))=G(F(x))=x$\u4e14$F[0]=G[0]=0$,$F[1]\\ne 0$,$G[1]\\ne 0$),\n",
                "\n",
                "\u5df2\u77e5$F$, \u53ef\u4ee5\u7528\u4ee5\u4e0b\u516c\u5f0f\u5f97\u5230$G$\u7684\u67d0\u4e00\u9879:\n",
                "\n",
                "$[x^n]G(x)=\\frac{1}{n}[x^{-1}]F(x)^{-n}=\\frac{1}{n}[x^{n-1}](\\frac{F(x)}{x})^{-n}$.\n",
                "\n",
                "\u5f15\u7406: \u5bf9\u4e8e\u5e38\u7cfb\u6570\u4e3a$0$\u4e14$[x^1]$\u7cfb\u6570\u975e$0$\u7684\u6574\u5f0f$F(x)$, \u6709 $[x^{-1}]F'(x)F(x)^k=[k=-1]$.\n",
                "\n",
                "## \u6269\u5c55\u62c9\u683c\u6717\u65e5\u53cd\u6f14\n",
                "\n",
                "\u82e5$F,G$\u4e92\u4e3a\u590d\u5408\u9006, $H$\u662f\u53e6\u4e00\u65e0\u8981\u6c42\u7684\u5e42\u7ea7\u6570, \u6709\n",
                "\n",
                "$[x^n]H(G(x))=\\frac{1}{n}[x^{-1}]H'(x)F(x)^{-n}=\\frac{1}{n}[x^{n-1}]H'(x)(\\frac{F(x)}{x})^{-n}$.\n",
                "\n",
                "## \u53e6\u7c7b\u62c9\u683c\u6717\u65e5\u53cd\u6f14\n",
                "\n",
                "\u5f53$k\\ne 0$\u65f6\u6709 $G^k[n]=[x^{-k-1}]F^{-n-1}F'$."
            ]
        }
    ],
    "metadata": {},
    "nbformat": 4,
    "nbformat_minor": 5
}